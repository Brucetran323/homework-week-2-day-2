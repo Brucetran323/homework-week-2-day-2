{
 "cells": [
  {
   "cell_type": "markdown",
   "id": "d4e1ade2",
   "metadata": {},
   "source": [
    "# Exercise 1\n",
    "Given a list as a parameter,write a function that returns a list of numbers that are less than ten\n",
    "\n",
    "\n",
    "For example: Say your input parameter to the function is [1,11,14,5,8,9]...Your output should [1,5,8,9]"
   ]
  },
  {
   "cell_type": "code",
   "execution_count": 8,
   "id": "63c5be2e",
   "metadata": {},
   "outputs": [
    {
     "name": "stdout",
     "output_type": "stream",
     "text": [
      "[1, 5, 8, 9]\n"
     ]
    }
   ],
   "source": [
    "# Use the following list - [1,11,14,5,8,9]\n",
    "\n",
    "l_1 = [1,11,14,5,8,9]\n",
    "\n",
    "def lessThenTen(list):\n",
    "    new_list=[]\n",
    "    for n in list:\n",
    "        if n<10:\n",
    "            new_list.append(n)\n",
    "    return new_list\n",
    "            \n",
    "        \n",
    "print(lessThenTen(l_1))"
   ]
  },
  {
   "cell_type": "markdown",
   "id": "359759e8",
   "metadata": {},
   "source": [
    "# Exercise 2\n",
    "Write a function that takes in two lists and returns the two lists merged together and sorted\n",
    "Hint: You can use the .sort() method"
   ]
  },
  {
   "cell_type": "code",
   "execution_count": 36,
   "id": "a2584b93",
   "metadata": {},
   "outputs": [
    {
     "data": {
      "text/plain": [
       "[1, 2, 3, 3, 4, 4, 5, 5, 6, 6, 7, 8, 10]"
      ]
     },
     "execution_count": 36,
     "metadata": {},
     "output_type": "execute_result"
    }
   ],
   "source": [
    "l_1 = [1,2,3,4,5,6]\n",
    "l_2 = [3,4,5,6,7,8,10]\n",
    "\n",
    "def comboListSorted(list1, list2):\n",
    "    new_list = list1 + list2\n",
    "    new_list.sort()\n",
    "    return(new_list)\n",
    "    \n",
    "comboListSorted(l_1, l_2)    "
   ]
  },
  {
   "cell_type": "code",
   "execution_count": null,
   "id": "f995d6ff",
   "metadata": {},
   "outputs": [],
   "source": []
  }
 ],
 "metadata": {
  "kernelspec": {
   "display_name": "Python 3 (ipykernel)",
   "language": "python",
   "name": "python3"
  },
  "language_info": {
   "codemirror_mode": {
    "name": "ipython",
    "version": 3
   },
   "file_extension": ".py",
   "mimetype": "text/x-python",
   "name": "python",
   "nbconvert_exporter": "python",
   "pygments_lexer": "ipython3",
   "version": "3.9.13"
  }
 },
 "nbformat": 4,
 "nbformat_minor": 5
}
